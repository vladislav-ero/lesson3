{
 "cells": [
  {
   "cell_type": "markdown",
   "metadata": {
    "scrolled": true
   },
   "source": [
    "# Метро\n",
    "### В этом задании требуется определить, на каких станциях московского метро сейчас идёт ремонт эскалаторов и вывести на экран их названия.\n",
    "\n",
    "### Файл с данными можно скачать на странице http://data.mos.ru/opendata/624/row/1773539."
   ]
  },
  {
   "cell_type": "code",
   "execution_count": 1,
   "metadata": {},
   "outputs": [
    {
     "name": "stdout",
     "output_type": "stream",
     "text": [
      "CPU times: user 2 µs, sys: 0 ns, total: 2 µs\n",
      "Wall time: 5.01 µs\n"
     ]
    }
   ],
   "source": [
    "%time\n",
    "import json\n",
    "from datetime import datetime"
   ]
  },
  {
   "cell_type": "code",
   "execution_count": 2,
   "metadata": {},
   "outputs": [
    {
     "name": "stdout",
     "output_type": "stream",
     "text": [
      "CPU times: user 2 µs, sys: 1 µs, total: 3 µs\n",
      "Wall time: 5.25 µs\n",
      "Таганская: reconstruction is finished\n",
      "ЦСКА: reconstruction is finished\n"
     ]
    }
   ],
   "source": [
    "%time\n",
    "reconstr_stations = {}\n",
    "dt_now = datetime.now()\n",
    "\n",
    "with open(\"metro_stations.json\", \"r\", encoding='cp1251') as r:\n",
    "    data = json.load(r)\n",
    "    for row in data:\n",
    "        if len(row['RepairOfEscalators']) > 0 and row['NameOfStation'] not in reconstr_stations:\n",
    "            reconstr_stations[row['NameOfStation']] = []\n",
    "            dates = row['RepairOfEscalators']\n",
    "            dates = dates[0]['RepairOfEscalators'].split('-')\n",
    "            dt_begin = datetime.strptime(dates[0], '%d.%m.%Y')\n",
    "            dt_end = datetime.strptime(dates[1], '%d.%m.%Y')\n",
    "            reconstr_stations[row['NameOfStation']].append(dt_begin)\n",
    "            reconstr_stations[row['NameOfStation']].append(dt_end)\n",
    "            \n",
    "            if dt_now >= dt_end:\n",
    "                print(f\"{row['NameOfStation']}: reconstruction is finished\")\n",
    "            elif dt_begin <= dt_now < dt_end:\n",
    "                print(f\"{row['NameOfStation']}: reconstruction is in process\")\n",
    "            else:\n",
    "                print(f\"{row['NameOfStation']}: reconstruction has not yet started\")\n",
    "                  \n",
    "list_of_stations = []\n",
    "for key in reconstr_stations.keys():\n",
    "    list_of_stations.append(key)"
   ]
  },
  {
   "cell_type": "code",
   "execution_count": 3,
   "metadata": {},
   "outputs": [
    {
     "name": "stdout",
     "output_type": "stream",
     "text": [
      "CPU times: user 4 µs, sys: 2 µs, total: 6 µs\n",
      "Wall time: 12.9 µs\n",
      "Stations ['Таганская', 'ЦСКА'] are/were being reconstructed this year.\n"
     ]
    }
   ],
   "source": [
    "%time\n",
    "print(f'Stations {list_of_stations} are/were being reconstructed this year.')"
   ]
  },
  {
   "cell_type": "code",
   "execution_count": 6,
   "metadata": {},
   "outputs": [
    {
     "name": "stdout",
     "output_type": "stream",
     "text": [
      "CPU times: user 2 µs, sys: 1 µs, total: 3 µs\n",
      "Wall time: 5.96 µs\n",
      "Таганская: [datetime.datetime(2019, 7, 31, 0, 0), datetime.datetime(2019, 8, 23, 0, 0)]\n",
      "ЦСКА: [datetime.datetime(2019, 2, 25, 0, 0), datetime.datetime(2019, 5, 24, 0, 0)]\n"
     ]
    }
   ],
   "source": [
    "%time\n",
    "for station in reconstr_stations:\n",
    "    print(f'{station}: {reconstr_stations[station]}')"
   ]
  },
  {
   "cell_type": "code",
   "execution_count": null,
   "metadata": {},
   "outputs": [],
   "source": []
  }
 ],
 "metadata": {
  "kernelspec": {
   "display_name": "Python 3",
   "language": "python",
   "name": "python3"
  },
  "language_info": {
   "codemirror_mode": {
    "name": "ipython",
    "version": 3
   },
   "file_extension": ".py",
   "mimetype": "text/x-python",
   "name": "python",
   "nbconvert_exporter": "python",
   "pygments_lexer": "ipython3",
   "version": "3.7.4"
  }
 },
 "nbformat": 4,
 "nbformat_minor": 2
}
